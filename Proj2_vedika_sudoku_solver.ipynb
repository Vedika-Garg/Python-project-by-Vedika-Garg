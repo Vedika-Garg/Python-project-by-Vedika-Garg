{
  "nbformat": 4,
  "nbformat_minor": 0,
  "metadata": {
    "colab": {
      "provenance": [],
      "authorship_tag": "ABX9TyPz4IVwlpGwss7goBmxegz5",
      "include_colab_link": true
    },
    "kernelspec": {
      "name": "python3",
      "display_name": "Python 3"
    },
    "language_info": {
      "name": "python"
    }
  },
  "cells": [
    {
      "cell_type": "markdown",
      "metadata": {
        "id": "view-in-github",
        "colab_type": "text"
      },
      "source": [
        "<a href=\"https://colab.research.google.com/github/Vedika-Garg/Python-project-by-Vedika-Garg.ipynb/blob/main/Proj2_vedika_sudoku_solver.ipynb\" target=\"_parent\"><img src=\"https://colab.research.google.com/assets/colab-badge.svg\" alt=\"Open In Colab\"/></a>"
      ]
    },
    {
      "cell_type": "code",
      "execution_count": 1,
      "metadata": {
        "colab": {
          "base_uri": "https://localhost:8080/"
        },
        "id": "Uf3rh6RvbiC4",
        "outputId": "51e8cbf5-d1ea-410a-f2f5-55c21bf28c42"
      },
      "outputs": [
        {
          "output_type": "stream",
          "name": "stdout",
          "text": [
            "Sudoku Solved:\n",
            "[[2 5 6 8 3 7 1 4 9]\n",
            " [7 1 9 2 4 5 8 3 6]\n",
            " [8 4 3 6 1 9 2 5 7]\n",
            " [4 6 7 1 5 8 9 2 3]\n",
            " [3 9 2 7 6 4 5 1 8]\n",
            " [5 8 1 3 9 2 6 7 4]\n",
            " [1 7 8 4 2 6 3 9 5]\n",
            " [6 3 5 9 7 1 4 8 2]\n",
            " [9 2 4 5 8 3 7 6 1]]\n"
          ]
        }
      ],
      "source": [
        "import numpy as np\n",
        "\n",
        "class SudokuSolver:\n",
        "    def __init__(self, board):\n",
        "        try:\n",
        "            self.board = np.array(board)\n",
        "            if self.board.shape != (9, 9):\n",
        "                raise ValueError(\"Board must be a 9x9 matrix.\")\n",
        "        except Exception as e:\n",
        "            print(f\"An error occurred while initializing the board: {e}\")\n",
        "\n",
        "    def find_empty_space(self):\n",
        "        try:\n",
        "            loc = np.where(self.board == 0)\n",
        "            if len(loc[0]) > 0:\n",
        "                return loc[0][0], loc[1][0]\n",
        "            return None, None\n",
        "        except Exception as e:\n",
        "            print(f\"An error occurred while finding an empty space: {e}\")\n",
        "            return None, None\n",
        "\n",
        "    def is_guess_correct(self, guess, row, col):\n",
        "        try:\n",
        "            # Check row\n",
        "            if guess in self.board[row]:\n",
        "                return False\n",
        "            # Check column\n",
        "            if guess in self.board[:, col]:\n",
        "                return False\n",
        "            # Check square\n",
        "            start_row, start_col = 3 * (row // 3), 3 * (col // 3)\n",
        "            if guess in self.board[start_row:start_row+3, start_col:start_col+3]:\n",
        "                return False\n",
        "            return True\n",
        "        except Exception as e:\n",
        "            print(f\"An error occurred while checking if the guess is correct: {e}\")\n",
        "            return False\n",
        "\n",
        "    def solve(self):\n",
        "        try:\n",
        "            row, col = self.find_empty_space()\n",
        "            if row is None:  # No empty space left, puzzle solved\n",
        "                return True\n",
        "\n",
        "            for guess in range(1, 10):\n",
        "                if self.is_guess_correct(guess, row, col):\n",
        "                    self.board[row][col] = guess\n",
        "                    if self.solve():\n",
        "                        return True\n",
        "                    self.board[row][col] = 0  # Reset the guess\n",
        "            return False\n",
        "        except Exception as e:\n",
        "            print(f\"An error occurred while solving the Sudoku: {e}\")\n",
        "            return False\n",
        "\n",
        "# Test the SudokuSolver class with NumPy and exception handling\n",
        "board = [\n",
        "    [0,0,0,8,0,0,0,0,9],\n",
        "    [0,1,9,0,0,5,8,3,0],\n",
        "    [0,4,3,0,1,0,0,0,7],\n",
        "    [4,0,0,1,5,0,0,0,3],\n",
        "    [0,0,2,7,0,4,0,1,0],\n",
        "    [0,8,0,0,9,0,6,0,0],\n",
        "    [0,7,0,0,0,6,3,0,0],\n",
        "    [0,3,0,0,7,0,0,8,0],\n",
        "    [9,0,4,5,0,0,0,0,1],\n",
        "]\n",
        "\n",
        "try:\n",
        "    solver = SudokuSolver(board)\n",
        "    if solver.solve():\n",
        "        print(\"Sudoku Solved:\")\n",
        "        print(solver.board)\n",
        "    else:\n",
        "        print(\"No solution exists.\")\n",
        "except Exception as e:\n",
        "    print(f\"An error occurred: {e}\")\n"
      ]
    }
  ]
}